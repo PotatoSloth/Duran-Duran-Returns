{
 "cells": [
  {
   "cell_type": "markdown",
   "metadata": {},
   "source": [
    "# Random Forest Regression\n"
   ]
  },
  {
   "cell_type": "markdown",
   "metadata": {},
   "source": [
    "### 1. 변수 정리 , 2. 가지수 변경"
   ]
  },
  {
   "cell_type": "code",
   "execution_count": 1,
   "metadata": {},
   "outputs": [],
   "source": [
    "# RMSE 함수\n",
    "from sklearn.metrics import make_scorer\n",
    "\n",
    "def rmse(predicted_values, actual_values):\n",
    "    # 넘파이로 배열 형태로 바꿔준다.\n",
    "    predicted_values = np.array(predicted_values)\n",
    "    actual_values = np.array(actual_values)\n",
    "        \n",
    "    # 위에서 계산한 예측값에서 실제값을 빼주고 제곱을 해준다.\n",
    "    difference = predicted_values - actual_values\n",
    "    # difference = (log_predict - log_actual) ** 2\n",
    "    difference = np.square(difference)\n",
    "    \n",
    "    # 평균을 낸다.\n",
    "    mean_difference = difference.mean()\n",
    "    \n",
    "    # 다시 루트를 씌운다.\n",
    "    score = np.sqrt(mean_difference)\n",
    "    \n",
    "    return score"
   ]
  },
  {
   "cell_type": "code",
   "execution_count": 4,
   "metadata": {},
   "outputs": [
    {
     "data": {
      "text/html": [
       "<div>\n",
       "<style scoped>\n",
       "    .dataframe tbody tr th:only-of-type {\n",
       "        vertical-align: middle;\n",
       "    }\n",
       "\n",
       "    .dataframe tbody tr th {\n",
       "        vertical-align: top;\n",
       "    }\n",
       "\n",
       "    .dataframe thead th {\n",
       "        text-align: right;\n",
       "    }\n",
       "</style>\n",
       "<table border=\"1\" class=\"dataframe\">\n",
       "  <thead>\n",
       "    <tr style=\"text-align: right;\">\n",
       "      <th></th>\n",
       "      <th>apartment_id</th>\n",
       "      <th>Seoul</th>\n",
       "      <th>Busan</th>\n",
       "      <th>transaction_date</th>\n",
       "      <th>year_of_completion</th>\n",
       "      <th>latitude</th>\n",
       "      <th>longitude</th>\n",
       "      <th>central</th>\n",
       "      <th>district</th>\n",
       "      <th>individual</th>\n",
       "      <th>...</th>\n",
       "      <th>supply_area</th>\n",
       "      <th>tallest_building_in_sites</th>\n",
       "      <th>lowest_building_in_sites</th>\n",
       "      <th>total_household_count_in_sites</th>\n",
       "      <th>total_household_count_of_area_type</th>\n",
       "      <th>total_parking_capacity_in_site</th>\n",
       "      <th>household_loan</th>\n",
       "      <th>mean_loan</th>\n",
       "      <th>mortgage loan</th>\n",
       "      <th>transaction_real_price</th>\n",
       "    </tr>\n",
       "  </thead>\n",
       "  <tbody>\n",
       "    <tr>\n",
       "      <th>0</th>\n",
       "      <td>5584</td>\n",
       "      <td>0</td>\n",
       "      <td>1</td>\n",
       "      <td>20</td>\n",
       "      <td>1999</td>\n",
       "      <td>37.585965</td>\n",
       "      <td>127.000231</td>\n",
       "      <td>0</td>\n",
       "      <td>0</td>\n",
       "      <td>1</td>\n",
       "      <td>...</td>\n",
       "      <td>0.112894</td>\n",
       "      <td>0.040000</td>\n",
       "      <td>0.043478</td>\n",
       "      <td>0.005469</td>\n",
       "      <td>0.015541</td>\n",
       "      <td>0.016691</td>\n",
       "      <td>0.568465</td>\n",
       "      <td>0.561404</td>\n",
       "      <td>0.605691</td>\n",
       "      <td>215000000.0</td>\n",
       "    </tr>\n",
       "    <tr>\n",
       "      <th>1</th>\n",
       "      <td>5584</td>\n",
       "      <td>0</td>\n",
       "      <td>1</td>\n",
       "      <td>20</td>\n",
       "      <td>1999</td>\n",
       "      <td>37.585965</td>\n",
       "      <td>127.000231</td>\n",
       "      <td>0</td>\n",
       "      <td>0</td>\n",
       "      <td>1</td>\n",
       "      <td>...</td>\n",
       "      <td>0.102380</td>\n",
       "      <td>0.040000</td>\n",
       "      <td>0.043478</td>\n",
       "      <td>0.005469</td>\n",
       "      <td>0.003378</td>\n",
       "      <td>0.016691</td>\n",
       "      <td>0.568465</td>\n",
       "      <td>0.561404</td>\n",
       "      <td>0.605691</td>\n",
       "      <td>200000000.0</td>\n",
       "    </tr>\n",
       "    <tr>\n",
       "      <th>2</th>\n",
       "      <td>5059</td>\n",
       "      <td>0</td>\n",
       "      <td>1</td>\n",
       "      <td>20</td>\n",
       "      <td>1992</td>\n",
       "      <td>37.580511</td>\n",
       "      <td>127.014016</td>\n",
       "      <td>0</td>\n",
       "      <td>0</td>\n",
       "      <td>1</td>\n",
       "      <td>...</td>\n",
       "      <td>0.129581</td>\n",
       "      <td>0.120000</td>\n",
       "      <td>0.115942</td>\n",
       "      <td>0.071840</td>\n",
       "      <td>0.067905</td>\n",
       "      <td>0.092361</td>\n",
       "      <td>0.568465</td>\n",
       "      <td>0.561404</td>\n",
       "      <td>0.605691</td>\n",
       "      <td>168000000.0</td>\n",
       "    </tr>\n",
       "    <tr>\n",
       "      <th>3</th>\n",
       "      <td>2816</td>\n",
       "      <td>0</td>\n",
       "      <td>1</td>\n",
       "      <td>20</td>\n",
       "      <td>1993</td>\n",
       "      <td>37.580324</td>\n",
       "      <td>127.011788</td>\n",
       "      <td>0</td>\n",
       "      <td>0</td>\n",
       "      <td>1</td>\n",
       "      <td>...</td>\n",
       "      <td>0.166625</td>\n",
       "      <td>0.133333</td>\n",
       "      <td>0.144928</td>\n",
       "      <td>0.121212</td>\n",
       "      <td>0.095946</td>\n",
       "      <td>0.092361</td>\n",
       "      <td>0.568465</td>\n",
       "      <td>0.561404</td>\n",
       "      <td>0.605691</td>\n",
       "      <td>165000000.0</td>\n",
       "    </tr>\n",
       "    <tr>\n",
       "      <th>4</th>\n",
       "      <td>2816</td>\n",
       "      <td>0</td>\n",
       "      <td>1</td>\n",
       "      <td>20</td>\n",
       "      <td>1993</td>\n",
       "      <td>37.580324</td>\n",
       "      <td>127.011788</td>\n",
       "      <td>0</td>\n",
       "      <td>0</td>\n",
       "      <td>1</td>\n",
       "      <td>...</td>\n",
       "      <td>0.266898</td>\n",
       "      <td>0.133333</td>\n",
       "      <td>0.144928</td>\n",
       "      <td>0.121212</td>\n",
       "      <td>0.037838</td>\n",
       "      <td>0.092361</td>\n",
       "      <td>0.568465</td>\n",
       "      <td>0.561404</td>\n",
       "      <td>0.605691</td>\n",
       "      <td>280000000.0</td>\n",
       "    </tr>\n",
       "  </tbody>\n",
       "</table>\n",
       "<p>5 rows × 37 columns</p>\n",
       "</div>"
      ],
      "text/plain": [
       "   apartment_id  Seoul  Busan  transaction_date  year_of_completion  \\\n",
       "0          5584      0      1                20                1999   \n",
       "1          5584      0      1                20                1999   \n",
       "2          5059      0      1                20                1992   \n",
       "3          2816      0      1                20                1993   \n",
       "4          2816      0      1                20                1993   \n",
       "\n",
       "    latitude   longitude  central  district  individual  \\\n",
       "0  37.585965  127.000231        0         0           1   \n",
       "1  37.585965  127.000231        0         0           1   \n",
       "2  37.580511  127.014016        0         0           1   \n",
       "3  37.580324  127.011788        0         0           1   \n",
       "4  37.580324  127.011788        0         0           1   \n",
       "\n",
       "            ...            supply_area  tallest_building_in_sites  \\\n",
       "0           ...               0.112894                   0.040000   \n",
       "1           ...               0.102380                   0.040000   \n",
       "2           ...               0.129581                   0.120000   \n",
       "3           ...               0.166625                   0.133333   \n",
       "4           ...               0.266898                   0.133333   \n",
       "\n",
       "   lowest_building_in_sites  total_household_count_in_sites  \\\n",
       "0                  0.043478                        0.005469   \n",
       "1                  0.043478                        0.005469   \n",
       "2                  0.115942                        0.071840   \n",
       "3                  0.144928                        0.121212   \n",
       "4                  0.144928                        0.121212   \n",
       "\n",
       "   total_household_count_of_area_type  total_parking_capacity_in_site  \\\n",
       "0                            0.015541                        0.016691   \n",
       "1                            0.003378                        0.016691   \n",
       "2                            0.067905                        0.092361   \n",
       "3                            0.095946                        0.092361   \n",
       "4                            0.037838                        0.092361   \n",
       "\n",
       "   household_loan  mean_loan  mortgage loan  transaction_real_price  \n",
       "0        0.568465   0.561404       0.605691             215000000.0  \n",
       "1        0.568465   0.561404       0.605691             200000000.0  \n",
       "2        0.568465   0.561404       0.605691             168000000.0  \n",
       "3        0.568465   0.561404       0.605691             165000000.0  \n",
       "4        0.568465   0.561404       0.605691             280000000.0  \n",
       "\n",
       "[5 rows x 37 columns]"
      ]
     },
     "execution_count": 4,
     "metadata": {},
     "output_type": "execute_result"
    }
   ],
   "source": [
    "# Importing the libraries\n",
    "import numpy as np\n",
    "import matplotlib.pyplot as plt\n",
    "import pandas as pd\n",
    "\n",
    "# Importing the dataset\n",
    "train = pd.read_csv('./duranduranreturns_data/20190119_제출용총train.csv', encoding='utf-8')\n",
    "train.head()"
   ]
  },
  {
   "cell_type": "code",
   "execution_count": 6,
   "metadata": {},
   "outputs": [
    {
     "name": "stderr",
     "output_type": "stream",
     "text": [
      "/home/ubuntu/anaconda3/lib/python3.6/site-packages/IPython/core/interactiveshell.py:3020: DtypeWarning: Columns (13,14) have mixed types. Specify dtype option on import or set low_memory=False.\n",
      "  interactivity=interactivity, compiler=compiler, result=result)\n"
     ]
    },
    {
     "data": {
      "text/html": [
       "<div>\n",
       "<style scoped>\n",
       "    .dataframe tbody tr th:only-of-type {\n",
       "        vertical-align: middle;\n",
       "    }\n",
       "\n",
       "    .dataframe tbody tr th {\n",
       "        vertical-align: top;\n",
       "    }\n",
       "\n",
       "    .dataframe thead th {\n",
       "        text-align: right;\n",
       "    }\n",
       "</style>\n",
       "<table border=\"1\" class=\"dataframe\">\n",
       "  <thead>\n",
       "    <tr style=\"text-align: right;\">\n",
       "      <th></th>\n",
       "      <th>Unnamed: 0</th>\n",
       "      <th>key</th>\n",
       "      <th>apartment_id</th>\n",
       "      <th>city</th>\n",
       "      <th>year_of_completion</th>\n",
       "      <th>exclusive_use_area</th>\n",
       "      <th>floor</th>\n",
       "      <th>latitude</th>\n",
       "      <th>longitude</th>\n",
       "      <th>address_by_law</th>\n",
       "      <th>...</th>\n",
       "      <th>supply_area</th>\n",
       "      <th>total_household_count_of_area_type</th>\n",
       "      <th>room_count</th>\n",
       "      <th>bathroom_count</th>\n",
       "      <th>front_door_structure</th>\n",
       "      <th>transaction_real_price</th>\n",
       "      <th>household_loan</th>\n",
       "      <th>mean_loan</th>\n",
       "      <th>mortgage_loan</th>\n",
       "      <th>transaction_year_month_date</th>\n",
       "    </tr>\n",
       "  </thead>\n",
       "  <tbody>\n",
       "    <tr>\n",
       "      <th>0</th>\n",
       "      <td>0</td>\n",
       "      <td>0</td>\n",
       "      <td>5584</td>\n",
       "      <td>1</td>\n",
       "      <td>1999</td>\n",
       "      <td>47.43</td>\n",
       "      <td>6</td>\n",
       "      <td>37.585965</td>\n",
       "      <td>127.000231</td>\n",
       "      <td>1111017100</td>\n",
       "      <td>...</td>\n",
       "      <td>65.63</td>\n",
       "      <td>46</td>\n",
       "      <td>1.0</td>\n",
       "      <td>1.0</td>\n",
       "      <td>corridor</td>\n",
       "      <td>215000000</td>\n",
       "      <td>5.69</td>\n",
       "      <td>5.79</td>\n",
       "      <td>5.64</td>\n",
       "      <td>2006-01-20</td>\n",
       "    </tr>\n",
       "    <tr>\n",
       "      <th>1</th>\n",
       "      <td>1</td>\n",
       "      <td>1</td>\n",
       "      <td>5584</td>\n",
       "      <td>1</td>\n",
       "      <td>1999</td>\n",
       "      <td>44.37</td>\n",
       "      <td>8</td>\n",
       "      <td>37.585965</td>\n",
       "      <td>127.000231</td>\n",
       "      <td>1111017100</td>\n",
       "      <td>...</td>\n",
       "      <td>61.39</td>\n",
       "      <td>10</td>\n",
       "      <td>2.0</td>\n",
       "      <td>1.0</td>\n",
       "      <td>corridor</td>\n",
       "      <td>200000000</td>\n",
       "      <td>5.69</td>\n",
       "      <td>5.79</td>\n",
       "      <td>5.64</td>\n",
       "      <td>2006-01-20</td>\n",
       "    </tr>\n",
       "    <tr>\n",
       "      <th>2</th>\n",
       "      <td>2</td>\n",
       "      <td>2</td>\n",
       "      <td>5059</td>\n",
       "      <td>1</td>\n",
       "      <td>1992</td>\n",
       "      <td>54.70</td>\n",
       "      <td>8</td>\n",
       "      <td>37.580511</td>\n",
       "      <td>127.014016</td>\n",
       "      <td>1111017400</td>\n",
       "      <td>...</td>\n",
       "      <td>72.36</td>\n",
       "      <td>201</td>\n",
       "      <td>2.0</td>\n",
       "      <td>1.0</td>\n",
       "      <td>corridor</td>\n",
       "      <td>168000000</td>\n",
       "      <td>5.69</td>\n",
       "      <td>5.79</td>\n",
       "      <td>5.64</td>\n",
       "      <td>2006-01-20</td>\n",
       "    </tr>\n",
       "    <tr>\n",
       "      <th>3</th>\n",
       "      <td>3</td>\n",
       "      <td>3</td>\n",
       "      <td>2816</td>\n",
       "      <td>1</td>\n",
       "      <td>1993</td>\n",
       "      <td>64.66</td>\n",
       "      <td>11</td>\n",
       "      <td>37.580324</td>\n",
       "      <td>127.011788</td>\n",
       "      <td>1111017400</td>\n",
       "      <td>...</td>\n",
       "      <td>87.30</td>\n",
       "      <td>284</td>\n",
       "      <td>2.0</td>\n",
       "      <td>1.0</td>\n",
       "      <td>corridor</td>\n",
       "      <td>165000000</td>\n",
       "      <td>5.69</td>\n",
       "      <td>5.79</td>\n",
       "      <td>5.64</td>\n",
       "      <td>2006-01-20</td>\n",
       "    </tr>\n",
       "    <tr>\n",
       "      <th>4</th>\n",
       "      <td>4</td>\n",
       "      <td>4</td>\n",
       "      <td>2816</td>\n",
       "      <td>1</td>\n",
       "      <td>1993</td>\n",
       "      <td>106.62</td>\n",
       "      <td>7</td>\n",
       "      <td>37.580324</td>\n",
       "      <td>127.011788</td>\n",
       "      <td>1111017400</td>\n",
       "      <td>...</td>\n",
       "      <td>127.74</td>\n",
       "      <td>112</td>\n",
       "      <td>4.0</td>\n",
       "      <td>2.0</td>\n",
       "      <td>stairway</td>\n",
       "      <td>280000000</td>\n",
       "      <td>5.69</td>\n",
       "      <td>5.79</td>\n",
       "      <td>5.64</td>\n",
       "      <td>2006-01-20</td>\n",
       "    </tr>\n",
       "  </tbody>\n",
       "</table>\n",
       "<p>5 rows × 28 columns</p>\n",
       "</div>"
      ],
      "text/plain": [
       "   Unnamed: 0  key  apartment_id  city  year_of_completion  \\\n",
       "0           0    0          5584     1                1999   \n",
       "1           1    1          5584     1                1999   \n",
       "2           2    2          5059     1                1992   \n",
       "3           3    3          2816     1                1993   \n",
       "4           4    4          2816     1                1993   \n",
       "\n",
       "   exclusive_use_area  floor   latitude   longitude  address_by_law  \\\n",
       "0               47.43      6  37.585965  127.000231      1111017100   \n",
       "1               44.37      8  37.585965  127.000231      1111017100   \n",
       "2               54.70      8  37.580511  127.014016      1111017400   \n",
       "3               64.66     11  37.580324  127.011788      1111017400   \n",
       "4              106.62      7  37.580324  127.011788      1111017400   \n",
       "\n",
       "              ...              supply_area  \\\n",
       "0             ...                    65.63   \n",
       "1             ...                    61.39   \n",
       "2             ...                    72.36   \n",
       "3             ...                    87.30   \n",
       "4             ...                   127.74   \n",
       "\n",
       "   total_household_count_of_area_type  room_count bathroom_count  \\\n",
       "0                                  46         1.0            1.0   \n",
       "1                                  10         2.0            1.0   \n",
       "2                                 201         2.0            1.0   \n",
       "3                                 284         2.0            1.0   \n",
       "4                                 112         4.0            2.0   \n",
       "\n",
       "  front_door_structure transaction_real_price household_loan  mean_loan  \\\n",
       "0             corridor              215000000           5.69       5.79   \n",
       "1             corridor              200000000           5.69       5.79   \n",
       "2             corridor              168000000           5.69       5.79   \n",
       "3             corridor              165000000           5.69       5.79   \n",
       "4             stairway              280000000           5.69       5.79   \n",
       "\n",
       "   mortgage_loan  transaction_year_month_date  \n",
       "0           5.64                   2006-01-20  \n",
       "1           5.64                   2006-01-20  \n",
       "2           5.64                   2006-01-20  \n",
       "3           5.64                   2006-01-20  \n",
       "4           5.64                   2006-01-20  \n",
       "\n",
       "[5 rows x 28 columns]"
      ]
     },
     "execution_count": 6,
     "metadata": {},
     "output_type": "execute_result"
    }
   ],
   "source": [
    "train2 = pd.read_csv('./duranduranreturns_data/nonull_train.csv', encoding='utf-8')\n",
    "train2.head()"
   ]
  },
  {
   "cell_type": "code",
   "execution_count": 7,
   "metadata": {},
   "outputs": [],
   "source": [
    "train['key'] = train2['key']"
   ]
  },
  {
   "cell_type": "code",
   "execution_count": 8,
   "metadata": {},
   "outputs": [
    {
     "data": {
      "text/plain": [
       "Index(['apartment_id', 'Seoul', 'Busan', 'transaction_date',\n",
       "       'year_of_completion', 'latitude', 'longitude', 'central', 'district',\n",
       "       'individual', 'cogeneration', 'gas', 'corridor', 'mixed', 'stairway',\n",
       "       'city1', 'city2', 'city3', 'city4', 'transaction_year',\n",
       "       'transaction_month', 'apartment_building_count_in_sites',\n",
       "       'bathroom_count', 'exclusive_use_area', 'floor', 'room_count',\n",
       "       'room_id', 'supply_area', 'tallest_building_in_sites',\n",
       "       'lowest_building_in_sites', 'total_household_count_in_sites',\n",
       "       'total_household_count_of_area_type', 'total_parking_capacity_in_site',\n",
       "       'household_loan', 'mean_loan', 'mortgage loan',\n",
       "       'transaction_real_price', 'key'],\n",
       "      dtype='object')"
      ]
     },
     "execution_count": 8,
     "metadata": {},
     "output_type": "execute_result"
    }
   ],
   "source": [
    "train.columns"
   ]
  },
  {
   "cell_type": "code",
   "execution_count": 9,
   "metadata": {},
   "outputs": [],
   "source": [
    "train = train[['key', 'apartment_id', 'Seoul', 'Busan', 'transaction_date',\n",
    "       'year_of_completion', 'central', 'district',\n",
    "       'individual', 'cogeneration', 'gas', 'corridor', 'mixed', 'stairway',\n",
    "       'transaction_year',\n",
    "       'transaction_month', 'apartment_building_count_in_sites',\n",
    "       'bathroom_count', 'floor', 'room_count',\n",
    "       'room_id', 'supply_area', 'tallest_building_in_sites',\n",
    "       'lowest_building_in_sites',\n",
    "       'total_household_count_of_area_type',\n",
    "       'household_loan', 'mean_loan', 'mortgage loan',\n",
    "       'transaction_real_price']]"
   ]
  },
  {
   "cell_type": "code",
   "execution_count": 10,
   "metadata": {},
   "outputs": [
    {
     "data": {
      "text/html": [
       "<div>\n",
       "<style scoped>\n",
       "    .dataframe tbody tr th:only-of-type {\n",
       "        vertical-align: middle;\n",
       "    }\n",
       "\n",
       "    .dataframe tbody tr th {\n",
       "        vertical-align: top;\n",
       "    }\n",
       "\n",
       "    .dataframe thead th {\n",
       "        text-align: right;\n",
       "    }\n",
       "</style>\n",
       "<table border=\"1\" class=\"dataframe\">\n",
       "  <thead>\n",
       "    <tr style=\"text-align: right;\">\n",
       "      <th></th>\n",
       "      <th>key</th>\n",
       "      <th>apartment_id</th>\n",
       "      <th>Seoul</th>\n",
       "      <th>Busan</th>\n",
       "      <th>transaction_date</th>\n",
       "      <th>year_of_completion</th>\n",
       "      <th>central</th>\n",
       "      <th>district</th>\n",
       "      <th>individual</th>\n",
       "      <th>cogeneration</th>\n",
       "      <th>...</th>\n",
       "      <th>room_count</th>\n",
       "      <th>room_id</th>\n",
       "      <th>supply_area</th>\n",
       "      <th>tallest_building_in_sites</th>\n",
       "      <th>lowest_building_in_sites</th>\n",
       "      <th>total_household_count_of_area_type</th>\n",
       "      <th>household_loan</th>\n",
       "      <th>mean_loan</th>\n",
       "      <th>mortgage loan</th>\n",
       "      <th>transaction_real_price</th>\n",
       "    </tr>\n",
       "  </thead>\n",
       "  <tbody>\n",
       "    <tr>\n",
       "      <th>0</th>\n",
       "      <td>0</td>\n",
       "      <td>5584</td>\n",
       "      <td>0</td>\n",
       "      <td>1</td>\n",
       "      <td>20</td>\n",
       "      <td>1999</td>\n",
       "      <td>0</td>\n",
       "      <td>0</td>\n",
       "      <td>1</td>\n",
       "      <td>0</td>\n",
       "      <td>...</td>\n",
       "      <td>0.125</td>\n",
       "      <td>0.473926</td>\n",
       "      <td>0.112894</td>\n",
       "      <td>0.040000</td>\n",
       "      <td>0.043478</td>\n",
       "      <td>0.015541</td>\n",
       "      <td>0.568465</td>\n",
       "      <td>0.561404</td>\n",
       "      <td>0.605691</td>\n",
       "      <td>215000000.0</td>\n",
       "    </tr>\n",
       "    <tr>\n",
       "      <th>1</th>\n",
       "      <td>1</td>\n",
       "      <td>5584</td>\n",
       "      <td>0</td>\n",
       "      <td>1</td>\n",
       "      <td>20</td>\n",
       "      <td>1999</td>\n",
       "      <td>0</td>\n",
       "      <td>0</td>\n",
       "      <td>1</td>\n",
       "      <td>0</td>\n",
       "      <td>...</td>\n",
       "      <td>0.250</td>\n",
       "      <td>0.473920</td>\n",
       "      <td>0.102380</td>\n",
       "      <td>0.040000</td>\n",
       "      <td>0.043478</td>\n",
       "      <td>0.003378</td>\n",
       "      <td>0.568465</td>\n",
       "      <td>0.561404</td>\n",
       "      <td>0.605691</td>\n",
       "      <td>200000000.0</td>\n",
       "    </tr>\n",
       "    <tr>\n",
       "      <th>2</th>\n",
       "      <td>2</td>\n",
       "      <td>5059</td>\n",
       "      <td>0</td>\n",
       "      <td>1</td>\n",
       "      <td>20</td>\n",
       "      <td>1992</td>\n",
       "      <td>0</td>\n",
       "      <td>0</td>\n",
       "      <td>1</td>\n",
       "      <td>0</td>\n",
       "      <td>...</td>\n",
       "      <td>0.250</td>\n",
       "      <td>0.043784</td>\n",
       "      <td>0.129581</td>\n",
       "      <td>0.120000</td>\n",
       "      <td>0.115942</td>\n",
       "      <td>0.067905</td>\n",
       "      <td>0.568465</td>\n",
       "      <td>0.561404</td>\n",
       "      <td>0.605691</td>\n",
       "      <td>168000000.0</td>\n",
       "    </tr>\n",
       "    <tr>\n",
       "      <th>3</th>\n",
       "      <td>3</td>\n",
       "      <td>2816</td>\n",
       "      <td>0</td>\n",
       "      <td>1</td>\n",
       "      <td>20</td>\n",
       "      <td>1993</td>\n",
       "      <td>0</td>\n",
       "      <td>0</td>\n",
       "      <td>1</td>\n",
       "      <td>0</td>\n",
       "      <td>...</td>\n",
       "      <td>0.250</td>\n",
       "      <td>0.030306</td>\n",
       "      <td>0.166625</td>\n",
       "      <td>0.133333</td>\n",
       "      <td>0.144928</td>\n",
       "      <td>0.095946</td>\n",
       "      <td>0.568465</td>\n",
       "      <td>0.561404</td>\n",
       "      <td>0.605691</td>\n",
       "      <td>165000000.0</td>\n",
       "    </tr>\n",
       "    <tr>\n",
       "      <th>4</th>\n",
       "      <td>4</td>\n",
       "      <td>2816</td>\n",
       "      <td>0</td>\n",
       "      <td>1</td>\n",
       "      <td>20</td>\n",
       "      <td>1993</td>\n",
       "      <td>0</td>\n",
       "      <td>0</td>\n",
       "      <td>1</td>\n",
       "      <td>0</td>\n",
       "      <td>...</td>\n",
       "      <td>0.500</td>\n",
       "      <td>0.030290</td>\n",
       "      <td>0.266898</td>\n",
       "      <td>0.133333</td>\n",
       "      <td>0.144928</td>\n",
       "      <td>0.037838</td>\n",
       "      <td>0.568465</td>\n",
       "      <td>0.561404</td>\n",
       "      <td>0.605691</td>\n",
       "      <td>280000000.0</td>\n",
       "    </tr>\n",
       "  </tbody>\n",
       "</table>\n",
       "<p>5 rows × 29 columns</p>\n",
       "</div>"
      ],
      "text/plain": [
       "   key  apartment_id  Seoul  Busan  transaction_date  year_of_completion  \\\n",
       "0    0          5584      0      1                20                1999   \n",
       "1    1          5584      0      1                20                1999   \n",
       "2    2          5059      0      1                20                1992   \n",
       "3    3          2816      0      1                20                1993   \n",
       "4    4          2816      0      1                20                1993   \n",
       "\n",
       "   central  district  individual  cogeneration           ...            \\\n",
       "0        0         0           1             0           ...             \n",
       "1        0         0           1             0           ...             \n",
       "2        0         0           1             0           ...             \n",
       "3        0         0           1             0           ...             \n",
       "4        0         0           1             0           ...             \n",
       "\n",
       "   room_count   room_id  supply_area  tallest_building_in_sites  \\\n",
       "0       0.125  0.473926     0.112894                   0.040000   \n",
       "1       0.250  0.473920     0.102380                   0.040000   \n",
       "2       0.250  0.043784     0.129581                   0.120000   \n",
       "3       0.250  0.030306     0.166625                   0.133333   \n",
       "4       0.500  0.030290     0.266898                   0.133333   \n",
       "\n",
       "   lowest_building_in_sites  total_household_count_of_area_type  \\\n",
       "0                  0.043478                            0.015541   \n",
       "1                  0.043478                            0.003378   \n",
       "2                  0.115942                            0.067905   \n",
       "3                  0.144928                            0.095946   \n",
       "4                  0.144928                            0.037838   \n",
       "\n",
       "   household_loan  mean_loan  mortgage loan  transaction_real_price  \n",
       "0        0.568465   0.561404       0.605691             215000000.0  \n",
       "1        0.568465   0.561404       0.605691             200000000.0  \n",
       "2        0.568465   0.561404       0.605691             168000000.0  \n",
       "3        0.568465   0.561404       0.605691             165000000.0  \n",
       "4        0.568465   0.561404       0.605691             280000000.0  \n",
       "\n",
       "[5 rows x 29 columns]"
      ]
     },
     "execution_count": 10,
     "metadata": {},
     "output_type": "execute_result"
    }
   ],
   "source": [
    "train.head()"
   ]
  },
  {
   "cell_type": "code",
   "execution_count": 11,
   "metadata": {},
   "outputs": [
    {
     "data": {
      "text/plain": [
       "29"
      ]
     },
     "execution_count": 11,
     "metadata": {},
     "output_type": "execute_result"
    }
   ],
   "source": [
    "# dataset.columns, \n",
    "len(train.columns)\n",
    "# dataset.iloc[:,0:2]"
   ]
  },
  {
   "cell_type": "code",
   "execution_count": 13,
   "metadata": {},
   "outputs": [],
   "source": [
    "# Data Division\n",
    "X = train.iloc[:, 1:28].values\n",
    "y = train.iloc[:, 28].values"
   ]
  },
  {
   "cell_type": "code",
   "execution_count": 14,
   "metadata": {},
   "outputs": [],
   "source": [
    "# Splitting the dataset into the Training set and Test set\n",
    "from sklearn.model_selection import train_test_split\n",
    "X_train, X_test, y_train, y_test = train_test_split(X, y, test_size = 0.3, random_state = 0)"
   ]
  },
  {
   "cell_type": "code",
   "execution_count": 15,
   "metadata": {},
   "outputs": [
    {
     "data": {
      "text/plain": [
       "array([[2.95500000e+03, 0.00000000e+00, 1.00000000e+00, ...,\n",
       "        5.45643154e-01, 5.72368421e-01, 4.69512195e-01],\n",
       "       [4.09000000e+03, 0.00000000e+00, 1.00000000e+00, ...,\n",
       "        1.24481328e-01, 1.42543860e-01, 1.30081301e-01],\n",
       "       [7.73900000e+03, 1.00000000e+00, 0.00000000e+00, ...,\n",
       "        4.56431535e-01, 4.58333333e-01, 3.98373984e-01],\n",
       "       ...,\n",
       "       [4.06800000e+03, 0.00000000e+00, 1.00000000e+00, ...,\n",
       "        5.95435685e-01, 6.16228070e-01, 6.15853659e-01],\n",
       "       [2.31230000e+04, 0.00000000e+00, 1.00000000e+00, ...,\n",
       "        1.57676349e-01, 1.00877193e-01, 1.64634146e-01],\n",
       "       [1.04380000e+04, 1.00000000e+00, 0.00000000e+00, ...,\n",
       "        8.65145228e-01, 8.53070175e-01, 8.65853659e-01]])"
      ]
     },
     "execution_count": 15,
     "metadata": {},
     "output_type": "execute_result"
    }
   ],
   "source": [
    "X_train"
   ]
  },
  {
   "cell_type": "code",
   "execution_count": 16,
   "metadata": {},
   "outputs": [
    {
     "data": {
      "text/plain": [
       "array([[2.81500000e+03, 0.00000000e+00, 1.00000000e+00, ...,\n",
       "        1.47302905e-01, 8.77192982e-02, 1.42276423e-01],\n",
       "       [3.81200000e+03, 0.00000000e+00, 1.00000000e+00, ...,\n",
       "        5.66390041e-01, 5.83333333e-01, 5.69105691e-01],\n",
       "       [7.41000000e+02, 0.00000000e+00, 1.00000000e+00, ...,\n",
       "        4.35684647e-02, 4.82456140e-02, 4.67479675e-02],\n",
       "       ...,\n",
       "       [5.62000000e+02, 1.00000000e+00, 0.00000000e+00, ...,\n",
       "        2.26141079e-01, 2.60964912e-01, 2.09349593e-01],\n",
       "       [4.36400000e+03, 0.00000000e+00, 1.00000000e+00, ...,\n",
       "        6.39004149e-01, 6.42543860e-01, 6.50406504e-01],\n",
       "       [9.24300000e+03, 1.00000000e+00, 0.00000000e+00, ...,\n",
       "        2.28215768e-01, 2.67543860e-01, 2.13414634e-01]])"
      ]
     },
     "execution_count": 16,
     "metadata": {},
     "output_type": "execute_result"
    }
   ],
   "source": [
    "X_test"
   ]
  },
  {
   "cell_type": "code",
   "execution_count": 17,
   "metadata": {},
   "outputs": [
    {
     "data": {
      "text/plain": [
       "RandomForestRegressor(bootstrap=True, criterion='mse', max_depth=None,\n",
       "           max_features='auto', max_leaf_nodes=None,\n",
       "           min_impurity_decrease=0.0, min_impurity_split=None,\n",
       "           min_samples_leaf=1, min_samples_split=2,\n",
       "           min_weight_fraction_leaf=0.0, n_estimators=50, n_jobs=None,\n",
       "           oob_score=False, random_state=0, verbose=0, warm_start=False)"
      ]
     },
     "execution_count": 17,
     "metadata": {},
     "output_type": "execute_result"
    }
   ],
   "source": [
    "# Fitting Random Forest Regression to the dataset\n",
    "from sklearn.ensemble import RandomForestRegressor\n",
    "regressor = RandomForestRegressor(n_estimators = 50, random_state = 0)\n",
    "regressor.fit(X_train, y_train)"
   ]
  },
  {
   "cell_type": "code",
   "execution_count": null,
   "metadata": {},
   "outputs": [],
   "source": []
  },
  {
   "cell_type": "markdown",
   "metadata": {},
   "source": [
    "## 분할 train 결과 비교"
   ]
  },
  {
   "cell_type": "code",
   "execution_count": 18,
   "metadata": {},
   "outputs": [],
   "source": [
    "# Predicting a new result\n",
    "y_train_pred = regressor.predict(X_train)"
   ]
  },
  {
   "cell_type": "code",
   "execution_count": 19,
   "metadata": {},
   "outputs": [
    {
     "data": {
      "text/plain": [
       "13889460.757406434"
      ]
     },
     "execution_count": 19,
     "metadata": {},
     "output_type": "execute_result"
    }
   ],
   "source": [
    "rmse(y_train_pred, y_train)"
   ]
  },
  {
   "cell_type": "markdown",
   "metadata": {},
   "source": [
    "## 분할 test 결과 비교"
   ]
  },
  {
   "cell_type": "code",
   "execution_count": 20,
   "metadata": {},
   "outputs": [],
   "source": [
    "y_test_pred = regressor.predict(X_test)"
   ]
  },
  {
   "cell_type": "code",
   "execution_count": 21,
   "metadata": {},
   "outputs": [
    {
     "data": {
      "text/plain": [
       "35716413.59736318"
      ]
     },
     "execution_count": 21,
     "metadata": {},
     "output_type": "execute_result"
    }
   ],
   "source": [
    "rmse(y_test_pred, y_test)"
   ]
  },
  {
   "cell_type": "markdown",
   "metadata": {},
   "source": [
    "## 전체 train 결과 비교"
   ]
  },
  {
   "cell_type": "code",
   "execution_count": 38,
   "metadata": {},
   "outputs": [],
   "source": [
    "y_dataset = regressor.predict(X)"
   ]
  },
  {
   "cell_type": "code",
   "execution_count": 39,
   "metadata": {},
   "outputs": [
    {
     "data": {
      "text/plain": [
       "21075578.29877149"
      ]
     },
     "execution_count": 39,
     "metadata": {},
     "output_type": "execute_result"
    }
   ],
   "source": [
    "rmse(y_dataset, y)"
   ]
  },
  {
   "cell_type": "code",
   "execution_count": null,
   "metadata": {},
   "outputs": [],
   "source": []
  },
  {
   "cell_type": "markdown",
   "metadata": {},
   "source": [
    "# test 데이터 불러오기"
   ]
  },
  {
   "cell_type": "code",
   "execution_count": 22,
   "metadata": {},
   "outputs": [],
   "source": [
    "test = pd.read_csv('./duranduranreturns_data/20190119_제출용총test.csv', encoding='utf-8')"
   ]
  },
  {
   "cell_type": "code",
   "execution_count": 24,
   "metadata": {},
   "outputs": [
    {
     "data": {
      "text/html": [
       "<div>\n",
       "<style scoped>\n",
       "    .dataframe tbody tr th:only-of-type {\n",
       "        vertical-align: middle;\n",
       "    }\n",
       "\n",
       "    .dataframe tbody tr th {\n",
       "        vertical-align: top;\n",
       "    }\n",
       "\n",
       "    .dataframe thead th {\n",
       "        text-align: right;\n",
       "    }\n",
       "</style>\n",
       "<table border=\"1\" class=\"dataframe\">\n",
       "  <thead>\n",
       "    <tr style=\"text-align: right;\">\n",
       "      <th></th>\n",
       "      <th>Unnamed: 0</th>\n",
       "      <th>key</th>\n",
       "      <th>apartment_id</th>\n",
       "      <th>city</th>\n",
       "      <th>transaction_year_month</th>\n",
       "      <th>transaction_date</th>\n",
       "      <th>year_of_completion</th>\n",
       "      <th>exclusive_use_area</th>\n",
       "      <th>floor</th>\n",
       "      <th>latitude</th>\n",
       "      <th>...</th>\n",
       "      <th>supply_area</th>\n",
       "      <th>total_household_count_of_area_type</th>\n",
       "      <th>room_count</th>\n",
       "      <th>bathroom_count</th>\n",
       "      <th>front_door_structure</th>\n",
       "      <th>transaction_real_price</th>\n",
       "      <th>household_loan</th>\n",
       "      <th>mean_loan</th>\n",
       "      <th>mortgage_loan</th>\n",
       "      <th>transaction_year_month_date</th>\n",
       "    </tr>\n",
       "  </thead>\n",
       "  <tbody>\n",
       "    <tr>\n",
       "      <th>0</th>\n",
       "      <td>0</td>\n",
       "      <td>462533</td>\n",
       "      <td>3751</td>\n",
       "      <td>1</td>\n",
       "      <td>200912</td>\n",
       "      <td>31</td>\n",
       "      <td>1984</td>\n",
       "      <td>83.58</td>\n",
       "      <td>14</td>\n",
       "      <td>37.519926</td>\n",
       "      <td>...</td>\n",
       "      <td>107.19</td>\n",
       "      <td>2</td>\n",
       "      <td>3.0</td>\n",
       "      <td>1.0</td>\n",
       "      <td>corridor</td>\n",
       "      <td>0</td>\n",
       "      <td>5.95</td>\n",
       "      <td>5.81</td>\n",
       "      <td>5.90</td>\n",
       "      <td>2009-12-31</td>\n",
       "    </tr>\n",
       "    <tr>\n",
       "      <th>1</th>\n",
       "      <td>1</td>\n",
       "      <td>764018</td>\n",
       "      <td>14029</td>\n",
       "      <td>1</td>\n",
       "      <td>201304</td>\n",
       "      <td>10</td>\n",
       "      <td>1968</td>\n",
       "      <td>107.17</td>\n",
       "      <td>10</td>\n",
       "      <td>37.572215</td>\n",
       "      <td>...</td>\n",
       "      <td>107.17</td>\n",
       "      <td>10</td>\n",
       "      <td>0.0</td>\n",
       "      <td>0.0</td>\n",
       "      <td>corridor</td>\n",
       "      <td>0</td>\n",
       "      <td>4.42</td>\n",
       "      <td>4.73</td>\n",
       "      <td>3.86</td>\n",
       "      <td>2013-04-10</td>\n",
       "    </tr>\n",
       "    <tr>\n",
       "      <th>2</th>\n",
       "      <td>2</td>\n",
       "      <td>813528</td>\n",
       "      <td>12304</td>\n",
       "      <td>1</td>\n",
       "      <td>201309</td>\n",
       "      <td>30</td>\n",
       "      <td>1968</td>\n",
       "      <td>36.17</td>\n",
       "      <td>6</td>\n",
       "      <td>37.570067</td>\n",
       "      <td>...</td>\n",
       "      <td>39.66</td>\n",
       "      <td>58</td>\n",
       "      <td>2.0</td>\n",
       "      <td>1.0</td>\n",
       "      <td>stairway</td>\n",
       "      <td>0</td>\n",
       "      <td>4.26</td>\n",
       "      <td>4.54</td>\n",
       "      <td>3.82</td>\n",
       "      <td>2013-09-30</td>\n",
       "    </tr>\n",
       "    <tr>\n",
       "      <th>3</th>\n",
       "      <td>3</td>\n",
       "      <td>845097</td>\n",
       "      <td>22241</td>\n",
       "      <td>1</td>\n",
       "      <td>201312</td>\n",
       "      <td>10</td>\n",
       "      <td>2007</td>\n",
       "      <td>45.67</td>\n",
       "      <td>8</td>\n",
       "      <td>37.556938</td>\n",
       "      <td>...</td>\n",
       "      <td>87.11</td>\n",
       "      <td>1</td>\n",
       "      <td>3.0</td>\n",
       "      <td>2.0</td>\n",
       "      <td>stairway</td>\n",
       "      <td>0</td>\n",
       "      <td>4.10</td>\n",
       "      <td>4.52</td>\n",
       "      <td>3.74</td>\n",
       "      <td>2013-12-10</td>\n",
       "    </tr>\n",
       "    <tr>\n",
       "      <th>4</th>\n",
       "      <td>4</td>\n",
       "      <td>856338</td>\n",
       "      <td>316</td>\n",
       "      <td>1</td>\n",
       "      <td>201401</td>\n",
       "      <td>10</td>\n",
       "      <td>1988</td>\n",
       "      <td>41.85</td>\n",
       "      <td>4</td>\n",
       "      <td>37.652256</td>\n",
       "      <td>...</td>\n",
       "      <td>56.70</td>\n",
       "      <td>90</td>\n",
       "      <td>2.0</td>\n",
       "      <td>1.0</td>\n",
       "      <td>stairway</td>\n",
       "      <td>0</td>\n",
       "      <td>4.15</td>\n",
       "      <td>4.53</td>\n",
       "      <td>3.75</td>\n",
       "      <td>2014-01-10</td>\n",
       "    </tr>\n",
       "  </tbody>\n",
       "</table>\n",
       "<p>5 rows × 30 columns</p>\n",
       "</div>"
      ],
      "text/plain": [
       "   Unnamed: 0     key  apartment_id  city  transaction_year_month  \\\n",
       "0           0  462533          3751     1                  200912   \n",
       "1           1  764018         14029     1                  201304   \n",
       "2           2  813528         12304     1                  201309   \n",
       "3           3  845097         22241     1                  201312   \n",
       "4           4  856338           316     1                  201401   \n",
       "\n",
       "   transaction_date  year_of_completion  exclusive_use_area  floor   latitude  \\\n",
       "0                31                1984               83.58     14  37.519926   \n",
       "1                10                1968              107.17     10  37.572215   \n",
       "2                30                1968               36.17      6  37.570067   \n",
       "3                10                2007               45.67      8  37.556938   \n",
       "4                10                1988               41.85      4  37.652256   \n",
       "\n",
       "              ...               supply_area  \\\n",
       "0             ...                    107.19   \n",
       "1             ...                    107.17   \n",
       "2             ...                     39.66   \n",
       "3             ...                     87.11   \n",
       "4             ...                     56.70   \n",
       "\n",
       "   total_household_count_of_area_type room_count  bathroom_count  \\\n",
       "0                                   2        3.0             1.0   \n",
       "1                                  10        0.0             0.0   \n",
       "2                                  58        2.0             1.0   \n",
       "3                                   1        3.0             2.0   \n",
       "4                                  90        2.0             1.0   \n",
       "\n",
       "   front_door_structure transaction_real_price household_loan mean_loan  \\\n",
       "0              corridor                      0           5.95      5.81   \n",
       "1              corridor                      0           4.42      4.73   \n",
       "2              stairway                      0           4.26      4.54   \n",
       "3              stairway                      0           4.10      4.52   \n",
       "4              stairway                      0           4.15      4.53   \n",
       "\n",
       "  mortgage_loan  transaction_year_month_date  \n",
       "0          5.90                   2009-12-31  \n",
       "1          3.86                   2013-04-10  \n",
       "2          3.82                   2013-09-30  \n",
       "3          3.74                   2013-12-10  \n",
       "4          3.75                   2014-01-10  \n",
       "\n",
       "[5 rows x 30 columns]"
      ]
     },
     "execution_count": 24,
     "metadata": {},
     "output_type": "execute_result"
    }
   ],
   "source": [
    "test2 = pd.read_csv('./duranduranreturns_data/nonull_test.csv', encoding='utf-8')\n",
    "test2.head()"
   ]
  },
  {
   "cell_type": "code",
   "execution_count": 25,
   "metadata": {},
   "outputs": [],
   "source": [
    "test['key'] = test2['key']"
   ]
  },
  {
   "cell_type": "code",
   "execution_count": 29,
   "metadata": {},
   "outputs": [
    {
     "data": {
      "text/plain": [
       "29"
      ]
     },
     "execution_count": 29,
     "metadata": {},
     "output_type": "execute_result"
    }
   ],
   "source": [
    "len(test.columns)"
   ]
  },
  {
   "cell_type": "code",
   "execution_count": 27,
   "metadata": {},
   "outputs": [],
   "source": [
    "test = test[['key', 'apartment_id', 'Seoul', 'Busan', 'transaction_date',\n",
    "       'year_of_completion', 'central', 'district',\n",
    "       'individual', 'cogeneration', 'gas', 'corridor', 'mixed', 'stairway',\n",
    "       'transaction_year',\n",
    "       'transaction_month', 'apartment_building_count_in_sites',\n",
    "       'bathroom_count', 'floor', 'room_count',\n",
    "       'room_id', 'supply_area', 'tallest_building_in_sites',\n",
    "       'lowest_building_in_sites',\n",
    "       'total_household_count_of_area_type',\n",
    "       'household_loan', 'mean_loan', 'mortgage loan',\n",
    "       'transaction_real_price']]"
   ]
  },
  {
   "cell_type": "code",
   "execution_count": 30,
   "metadata": {},
   "outputs": [],
   "source": [
    "# Data Division\n",
    "X2 = test.iloc[:, 1:28].values\n",
    "y2 = test.iloc[:, 28].values"
   ]
  },
  {
   "cell_type": "code",
   "execution_count": null,
   "metadata": {},
   "outputs": [],
   "source": []
  },
  {
   "cell_type": "code",
   "execution_count": null,
   "metadata": {},
   "outputs": [],
   "source": []
  },
  {
   "cell_type": "markdown",
   "metadata": {},
   "source": [
    "# Test 데이터로부터 예측값 추출하기 "
   ]
  },
  {
   "cell_type": "code",
   "execution_count": 31,
   "metadata": {},
   "outputs": [],
   "source": [
    "prediction = regressor.predict(X2)"
   ]
  },
  {
   "cell_type": "code",
   "execution_count": 32,
   "metadata": {},
   "outputs": [
    {
     "data": {
      "text/plain": [
       "array([7.42390000e+08, 3.68740000e+08, 1.27800000e+08, ...,\n",
       "       7.00280000e+08, 7.21288333e+08, 1.92890000e+08])"
      ]
     },
     "execution_count": 32,
     "metadata": {},
     "output_type": "execute_result"
    }
   ],
   "source": [
    "prediction"
   ]
  },
  {
   "cell_type": "markdown",
   "metadata": {},
   "source": [
    "# 결과값 저장하기"
   ]
  },
  {
   "cell_type": "code",
   "execution_count": 33,
   "metadata": {},
   "outputs": [
    {
     "name": "stdout",
     "output_type": "stream",
     "text": [
      "(3918, 2)\n"
     ]
    },
    {
     "data": {
      "text/html": [
       "<div>\n",
       "<style scoped>\n",
       "    .dataframe tbody tr th:only-of-type {\n",
       "        vertical-align: middle;\n",
       "    }\n",
       "\n",
       "    .dataframe tbody tr th {\n",
       "        vertical-align: top;\n",
       "    }\n",
       "\n",
       "    .dataframe thead th {\n",
       "        text-align: right;\n",
       "    }\n",
       "</style>\n",
       "<table border=\"1\" class=\"dataframe\">\n",
       "  <thead>\n",
       "    <tr style=\"text-align: right;\">\n",
       "      <th></th>\n",
       "      <th>key</th>\n",
       "      <th>transaction_real_price</th>\n",
       "    </tr>\n",
       "  </thead>\n",
       "  <tbody>\n",
       "    <tr>\n",
       "      <th>0</th>\n",
       "      <td>462533</td>\n",
       "      <td>742390000.0</td>\n",
       "    </tr>\n",
       "    <tr>\n",
       "      <th>1</th>\n",
       "      <td>764018</td>\n",
       "      <td>368740000.0</td>\n",
       "    </tr>\n",
       "    <tr>\n",
       "      <th>2</th>\n",
       "      <td>813528</td>\n",
       "      <td>127800000.0</td>\n",
       "    </tr>\n",
       "    <tr>\n",
       "      <th>3</th>\n",
       "      <td>845097</td>\n",
       "      <td>409214200.0</td>\n",
       "    </tr>\n",
       "    <tr>\n",
       "      <th>4</th>\n",
       "      <td>856338</td>\n",
       "      <td>166946000.0</td>\n",
       "    </tr>\n",
       "  </tbody>\n",
       "</table>\n",
       "</div>"
      ],
      "text/plain": [
       "      key  transaction_real_price\n",
       "0  462533             742390000.0\n",
       "1  764018             368740000.0\n",
       "2  813528             127800000.0\n",
       "3  845097             409214200.0\n",
       "4  856338             166946000.0"
      ]
     },
     "execution_count": 33,
     "metadata": {},
     "output_type": "execute_result"
    }
   ],
   "source": [
    "submission = pd.read_csv(\"./duranduranreturns_data/data/submission.csv\")\n",
    "submission\n",
    "\n",
    "submission[\"transaction_real_price\"] = prediction\n",
    "\n",
    "print(submission.shape)\n",
    "submission.head()"
   ]
  },
  {
   "cell_type": "code",
   "execution_count": 34,
   "metadata": {},
   "outputs": [],
   "source": [
    "submission.to_csv(\"./duranduranreturns_data/submission/20190122_submission_rf3_ysw.csv\",index=False, encoding= 'utf-8')"
   ]
  },
  {
   "cell_type": "code",
   "execution_count": null,
   "metadata": {},
   "outputs": [],
   "source": []
  },
  {
   "cell_type": "markdown",
   "metadata": {},
   "source": [
    "## (참고) 결과값 다른 모델과 비교해보기"
   ]
  },
  {
   "cell_type": "code",
   "execution_count": 40,
   "metadata": {},
   "outputs": [
    {
     "data": {
      "text/html": [
       "<div>\n",
       "<style scoped>\n",
       "    .dataframe tbody tr th:only-of-type {\n",
       "        vertical-align: middle;\n",
       "    }\n",
       "\n",
       "    .dataframe tbody tr th {\n",
       "        vertical-align: top;\n",
       "    }\n",
       "\n",
       "    .dataframe thead th {\n",
       "        text-align: right;\n",
       "    }\n",
       "</style>\n",
       "<table border=\"1\" class=\"dataframe\">\n",
       "  <thead>\n",
       "    <tr style=\"text-align: right;\">\n",
       "      <th></th>\n",
       "      <th>key</th>\n",
       "      <th>transaction_real_price</th>\n",
       "    </tr>\n",
       "  </thead>\n",
       "  <tbody>\n",
       "    <tr>\n",
       "      <th>0</th>\n",
       "      <td>462533</td>\n",
       "      <td>838300000.0</td>\n",
       "    </tr>\n",
       "    <tr>\n",
       "      <th>1</th>\n",
       "      <td>764018</td>\n",
       "      <td>377075000.0</td>\n",
       "    </tr>\n",
       "    <tr>\n",
       "      <th>2</th>\n",
       "      <td>813528</td>\n",
       "      <td>125662500.0</td>\n",
       "    </tr>\n",
       "    <tr>\n",
       "      <th>3</th>\n",
       "      <td>845097</td>\n",
       "      <td>237175000.0</td>\n",
       "    </tr>\n",
       "    <tr>\n",
       "      <th>4</th>\n",
       "      <td>856338</td>\n",
       "      <td>168575000.0</td>\n",
       "    </tr>\n",
       "  </tbody>\n",
       "</table>\n",
       "</div>"
      ],
      "text/plain": [
       "      key  transaction_real_price\n",
       "0  462533             838300000.0\n",
       "1  764018             377075000.0\n",
       "2  813528             125662500.0\n",
       "3  845097             237175000.0\n",
       "4  856338             168575000.0"
      ]
     },
     "execution_count": 40,
     "metadata": {},
     "output_type": "execute_result"
    }
   ],
   "source": [
    "submission2 = pd.read_csv('./duranduranreturns_data/submission/20190122_submission_rf1_ysw.csv', encoding='utf-8')\n",
    "submission2.head()"
   ]
  },
  {
   "cell_type": "code",
   "execution_count": 42,
   "metadata": {},
   "outputs": [
    {
     "data": {
      "text/html": [
       "<div>\n",
       "<style scoped>\n",
       "    .dataframe tbody tr th:only-of-type {\n",
       "        vertical-align: middle;\n",
       "    }\n",
       "\n",
       "    .dataframe tbody tr th {\n",
       "        vertical-align: top;\n",
       "    }\n",
       "\n",
       "    .dataframe thead th {\n",
       "        text-align: right;\n",
       "    }\n",
       "</style>\n",
       "<table border=\"1\" class=\"dataframe\">\n",
       "  <thead>\n",
       "    <tr style=\"text-align: right;\">\n",
       "      <th></th>\n",
       "      <th>key</th>\n",
       "      <th>transaction_real_price</th>\n",
       "    </tr>\n",
       "  </thead>\n",
       "  <tbody>\n",
       "    <tr>\n",
       "      <th>0</th>\n",
       "      <td>462533</td>\n",
       "      <td>792395500.0</td>\n",
       "    </tr>\n",
       "    <tr>\n",
       "      <th>1</th>\n",
       "      <td>764018</td>\n",
       "      <td>374987500.0</td>\n",
       "    </tr>\n",
       "    <tr>\n",
       "      <th>2</th>\n",
       "      <td>813528</td>\n",
       "      <td>140312500.0</td>\n",
       "    </tr>\n",
       "    <tr>\n",
       "      <th>3</th>\n",
       "      <td>845097</td>\n",
       "      <td>240407500.0</td>\n",
       "    </tr>\n",
       "    <tr>\n",
       "      <th>4</th>\n",
       "      <td>856338</td>\n",
       "      <td>153956250.0</td>\n",
       "    </tr>\n",
       "  </tbody>\n",
       "</table>\n",
       "</div>"
      ],
      "text/plain": [
       "      key  transaction_real_price\n",
       "0  462533             792395500.0\n",
       "1  764018             374987500.0\n",
       "2  813528             140312500.0\n",
       "3  845097             240407500.0\n",
       "4  856338             153956250.0"
      ]
     },
     "execution_count": 42,
     "metadata": {},
     "output_type": "execute_result"
    }
   ],
   "source": [
    "submission3 = pd.read_csv('./duranduranreturns_data/submission/20190122_submission_rf2_ysw.csv', encoding='utf-8')\n",
    "submission3.head()"
   ]
  },
  {
   "cell_type": "code",
   "execution_count": 43,
   "metadata": {},
   "outputs": [
    {
     "data": {
      "text/plain": [
       "(81971976.66624208, 86647735.81755851)"
      ]
     },
     "execution_count": 43,
     "metadata": {},
     "output_type": "execute_result"
    }
   ],
   "source": [
    "rmse(submission['transaction_real_price'], submission2['transaction_real_price']), rmse(submission['transaction_real_price'], submission3['transaction_real_price'])"
   ]
  },
  {
   "cell_type": "code",
   "execution_count": null,
   "metadata": {},
   "outputs": [],
   "source": []
  },
  {
   "cell_type": "code",
   "execution_count": 37,
   "metadata": {},
   "outputs": [
    {
     "data": {
      "text/plain": [
       "9620136.085834995"
      ]
     },
     "execution_count": 37,
     "metadata": {},
     "output_type": "execute_result"
    }
   ],
   "source": [
    "rmse(submission2['transaction_real_price'], submission3['transaction_real_price'])"
   ]
  },
  {
   "cell_type": "code",
   "execution_count": null,
   "metadata": {},
   "outputs": [],
   "source": []
  }
 ],
 "metadata": {
  "kernelspec": {
   "display_name": "Python 3",
   "language": "python",
   "name": "python3"
  },
  "language_info": {
   "codemirror_mode": {
    "name": "ipython",
    "version": 3
   },
   "file_extension": ".py",
   "mimetype": "text/x-python",
   "name": "python",
   "nbconvert_exporter": "python",
   "pygments_lexer": "ipython3",
   "version": "3.6.6"
  }
 },
 "nbformat": 4,
 "nbformat_minor": 2
}
